{
 "cells": [
  {
   "cell_type": "markdown",
   "metadata": {},
   "source": [
    "# Model Inference-Aria (Talent Fair Competition)\n",
    "\n",
    "Vincent Timothy Djaja-RMT_017"
   ]
  },
  {
   "cell_type": "code",
   "execution_count": 1,
   "metadata": {},
   "outputs": [],
   "source": [
    "# Import Library\n",
    "import pickle\n",
    "import pandas as pd\n",
    "import numpy as np"
   ]
  },
  {
   "cell_type": "code",
   "execution_count": 2,
   "metadata": {},
   "outputs": [],
   "source": [
    "# Load All Files\n",
    "\n",
    "with open('model_ran.pkl', 'rb') as file_1:\n",
    "  model_ran = pickle.load(file_1)\n",
    "\n",
    "with open('model_scaler.pkl', 'rb') as file_2:\n",
    "  model_scaler = pickle.load(file_2)\n",
    "\n",
    "with open('model_pca.pkl', 'rb') as file_3:\n",
    "  model_pca = pickle.load(file_3)"
   ]
  },
  {
   "cell_type": "code",
   "execution_count": 3,
   "metadata": {},
   "outputs": [
    {
     "data": {
      "text/html": [
       "<div>\n",
       "<style scoped>\n",
       "    .dataframe tbody tr th:only-of-type {\n",
       "        vertical-align: middle;\n",
       "    }\n",
       "\n",
       "    .dataframe tbody tr th {\n",
       "        vertical-align: top;\n",
       "    }\n",
       "\n",
       "    .dataframe thead th {\n",
       "        text-align: right;\n",
       "    }\n",
       "</style>\n",
       "<table border=\"1\" class=\"dataframe\">\n",
       "  <thead>\n",
       "    <tr style=\"text-align: right;\">\n",
       "      <th></th>\n",
       "      <th>target</th>\n",
       "      <th>v1</th>\n",
       "      <th>v2</th>\n",
       "      <th>v3</th>\n",
       "      <th>v4</th>\n",
       "      <th>v5</th>\n",
       "      <th>v6</th>\n",
       "      <th>v7</th>\n",
       "      <th>v8</th>\n",
       "      <th>sample_type</th>\n",
       "    </tr>\n",
       "  </thead>\n",
       "  <tbody>\n",
       "    <tr>\n",
       "      <th>104</th>\n",
       "      <td>4.77</td>\n",
       "      <td>537.533333</td>\n",
       "      <td>207.733333</td>\n",
       "      <td>577.466667</td>\n",
       "      <td>365.666667</td>\n",
       "      <td>492.066667</td>\n",
       "      <td>218.333333</td>\n",
       "      <td>646.333333</td>\n",
       "      <td>4274.333333</td>\n",
       "      <td>lab 2</td>\n",
       "    </tr>\n",
       "  </tbody>\n",
       "</table>\n",
       "</div>"
      ],
      "text/plain": [
       "     target          v1          v2          v3          v4          v5  \\\n",
       "104    4.77  537.533333  207.733333  577.466667  365.666667  492.066667   \n",
       "\n",
       "             v6          v7           v8 sample_type  \n",
       "104  218.333333  646.333333  4274.333333       lab 2  "
      ]
     },
     "execution_count": 3,
     "metadata": {},
     "output_type": "execute_result"
    }
   ],
   "source": [
    "# Check original dataframe\n",
    "df_ori = pd.read_excel('aria_data.xlsx').sample(1,random_state=7)\n",
    "df_inf = df_ori.copy()\n",
    "df_inf"
   ]
  },
  {
   "cell_type": "code",
   "execution_count": 4,
   "metadata": {},
   "outputs": [],
   "source": [
    "# Drop target\n",
    "df_inf.drop(['target'],axis=1,inplace=True)\n",
    "\n",
    "# Change lab 1 and lab 2\n",
    "df_inf['sample_type'].replace(['lab 1','lab 2'],[1,2],inplace=True)"
   ]
  },
  {
   "cell_type": "code",
   "execution_count": 5,
   "metadata": {},
   "outputs": [
    {
     "data": {
      "text/plain": [
       "array([[ 1.15309505, -0.14248894,  1.03230024, -0.26184946,  0.51249287,\n",
       "        -0.44891208, -1.30798142, -0.74195004,  1.30955417]])"
      ]
     },
     "execution_count": 5,
     "metadata": {},
     "output_type": "execute_result"
    }
   ],
   "source": [
    "# Feature Scaling\n",
    "df_inf_scaled = model_scaler.transform(df_inf)\n",
    "df_inf_scaled"
   ]
  },
  {
   "cell_type": "code",
   "execution_count": 6,
   "metadata": {},
   "outputs": [
    {
     "data": {
      "text/plain": [
       "array([[1.14115133, 2.353733  , 0.12502414]])"
      ]
     },
     "execution_count": 6,
     "metadata": {},
     "output_type": "execute_result"
    }
   ],
   "source": [
    "# PCA\n",
    "df_pca = model_pca.transform(df_inf_scaled)\n",
    "df_pca"
   ]
  },
  {
   "cell_type": "code",
   "execution_count": 7,
   "metadata": {},
   "outputs": [
    {
     "name": "stdout",
     "output_type": "stream",
     "text": [
      "Target data inference ini adalah [4.78819512]\n"
     ]
    }
   ],
   "source": [
    "# Prediction\n",
    "print('Target data inference ini adalah', model_ran.predict(df_pca))"
   ]
  },
  {
   "cell_type": "code",
   "execution_count": 8,
   "metadata": {},
   "outputs": [
    {
     "data": {
      "text/plain": [
       "104    4.77\n",
       "Name: target, dtype: float64"
      ]
     },
     "execution_count": 8,
     "metadata": {},
     "output_type": "execute_result"
    }
   ],
   "source": [
    "# Check with original dataset\n",
    "df_ori.target"
   ]
  },
  {
   "cell_type": "markdown",
   "metadata": {},
   "source": [
    "Dapat disimpulkan bahwa model machine learning ini berhasil memprediksi data inference (4.7)."
   ]
  }
 ],
 "metadata": {
  "kernelspec": {
   "display_name": "Python 3.8.8 ('base')",
   "language": "python",
   "name": "python3"
  },
  "language_info": {
   "codemirror_mode": {
    "name": "ipython",
    "version": 3
   },
   "file_extension": ".py",
   "mimetype": "text/x-python",
   "name": "python",
   "nbconvert_exporter": "python",
   "pygments_lexer": "ipython3",
   "version": "3.8.8"
  },
  "orig_nbformat": 4,
  "vscode": {
   "interpreter": {
    "hash": "c184c2dac92add11c4b4991b246963ff7fd51605869f243f3101a19a3d59e3e5"
   }
  }
 },
 "nbformat": 4,
 "nbformat_minor": 2
}
